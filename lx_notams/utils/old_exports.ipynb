{
 "cells": [
  {
   "cell_type": "code",
   "execution_count": 33,
   "metadata": {},
   "outputs": [
    {
     "name": "stdout",
     "output_type": "stream",
     "text": [
      "c:\\Users\\joaol\\repos\\NOTAM_proj\\lx-notams\n"
     ]
    },
    {
     "name": "stderr",
     "output_type": "stream",
     "text": [
      "c:\\Users\\joaol\\repos\\NOTAM_proj\\lx-notams\\venv_lx\\Lib\\site-packages\\IPython\\core\\magics\\osm.py:417: UserWarning: This is now an optional IPython functionality, setting dhist requires you to install the `pickleshare` library.\n",
      "  self.shell.db['dhist'] = compress_dhist(dhist)[-100:]\n"
     ]
    },
    {
     "data": {
      "text/plain": [
       "'c:\\\\Users\\\\joaol\\\\repos\\\\NOTAM_proj\\\\lx-notams'"
      ]
     },
     "execution_count": 33,
     "metadata": {},
     "output_type": "execute_result"
    }
   ],
   "source": [
    "%cd c:\\\\Users\\\\joaol\\\\repos\\\\NOTAM_proj\\\\\\\\lx-notams\n",
    "%pwd"
   ]
  },
  {
   "cell_type": "code",
   "execution_count": 34,
   "metadata": {},
   "outputs": [],
   "source": [
    "import os\n",
    "from pathlib import Path\n",
    "\n"
   ]
  },
  {
   "cell_type": "code",
   "execution_count": 35,
   "metadata": {},
   "outputs": [],
   "source": [
    "exports_folder = Path.cwd() / 'lx_notams' / 'datasets' / 'exports'\n"
   ]
  },
  {
   "cell_type": "code",
   "execution_count": 36,
   "metadata": {},
   "outputs": [],
   "source": [
    "import pandas as pd\n",
    "\n",
    "dfs = []\n",
    "\n",
    "for p in exports_folder.glob('*'):\n",
    "    \n",
    "    dfs.append(pd.read_csv(p, sep=';'))"
   ]
  },
  {
   "cell_type": "code",
   "execution_count": 37,
   "metadata": {},
   "outputs": [],
   "source": [
    "test_text = pd.concat(dfs).iloc[0]['fulltext']\n"
   ]
  },
  {
   "cell_type": "code",
   "execution_count": 38,
   "metadata": {},
   "outputs": [
    {
     "data": {
      "text/plain": [
       "'c:\\\\Users\\\\joaol\\\\repos\\\\NOTAM_proj\\\\lx-notams'"
      ]
     },
     "execution_count": 38,
     "metadata": {},
     "output_type": "execute_result"
    }
   ],
   "source": [
    "%pwd"
   ]
  },
  {
   "cell_type": "code",
   "execution_count": 39,
   "metadata": {},
   "outputs": [],
   "source": [
    "from lx_notams.models.notam.re_maps import REGEX_FEATURE_MAPS, REGEX_Q_FEATURE_MAPS, REGEX_HEADER_FEATURE_MAPS\n",
    "from lx_notams.models.notam.db_notam import NotamProcessor"
   ]
  },
  {
   "cell_type": "code",
   "execution_count": 40,
   "metadata": {},
   "outputs": [
    {
     "data": {
      "text/plain": [
       "'A8017/17 NOTAMR A5539/17 Q)SARR/QFFCG/IV/NBO/A/000/999/2612S05813W005 A)SARF B)1711302342 C)1802282359EST E)FIRE AND RESCUE DOWNGRADED TO CAT 5'"
      ]
     },
     "execution_count": 40,
     "metadata": {},
     "output_type": "execute_result"
    }
   ],
   "source": [
    "test_text "
   ]
  },
  {
   "cell_type": "code",
   "execution_count": 41,
   "metadata": {},
   "outputs": [],
   "source": [
    "df = pd.concat(dfs).reset_index()"
   ]
  },
  {
   "cell_type": "code",
   "execution_count": 42,
   "metadata": {},
   "outputs": [],
   "source": [
    "a = [i for \n",
    "     i in NotamProcessor._apply_regex_feature_map(test_text, REGEX_FEATURE_MAPS)]"
   ]
  },
  {
   "cell_type": "code",
   "execution_count": 43,
   "metadata": {},
   "outputs": [
    {
     "data": {
      "text/plain": [
       "[{'nat': 'R'},\n",
       " {'header': 'A8017/17 NOTAMR A5539/17'},\n",
       " {'lat_deg': 26.0},\n",
       " {'lat_min': 12.0},\n",
       " {'lat_hem': 'S'},\n",
       " {'lon_deg': 58.0},\n",
       " {'lon_min': 13.0},\n",
       " {'lon_hem': 'W'},\n",
       " {'fir': 'SARR'},\n",
       " {'subject': 'FF'},\n",
       " {'condition': 'CG'},\n",
       " {'traffic': 'IV'},\n",
       " {'purp': 'NBO'},\n",
       " {'scope': 'A'},\n",
       " {'flmin': 0},\n",
       " {'flmax': 999},\n",
       " {'rad': 5.0},\n",
       " {'Q': 'SARR/QFFCG/IV/NBO/A/000/999/2612S05813W005'},\n",
       " {'A': 'SARF'},\n",
       " {'B': '1711302342'},\n",
       " {'C': '1802282359EST'},\n",
       " {'D': None},\n",
       " {'E': 'FIRE AND RESCUE DOWNGRADED TO CAT 5'},\n",
       " {'F': None},\n",
       " {'G': None}]"
      ]
     },
     "execution_count": 43,
     "metadata": {},
     "output_type": "execute_result"
    }
   ],
   "source": [
    "a"
   ]
  },
  {
   "cell_type": "code",
   "execution_count": 44,
   "metadata": {},
   "outputs": [],
   "source": [
    "from collections import ChainMap\n",
    "\n",
    "records =  df['fulltext'].apply(lambda row: dict(ChainMap(*[ i for i in NotamProcessor._apply_regex_feature_map(row, REGEX_FEATURE_MAPS)])))"
   ]
  },
  {
   "cell_type": "code",
   "execution_count": 45,
   "metadata": {},
   "outputs": [],
   "source": [
    "notam_df = pd.DataFrame.from_records(records)"
   ]
  },
  {
   "cell_type": "markdown",
   "metadata": {},
   "source": [
    "# Reference datasets"
   ]
  },
  {
   "cell_type": "code",
   "execution_count": 46,
   "metadata": {},
   "outputs": [],
   "source": [
    "from lx_notams.models.notam.re_maps import DATASET_MAP"
   ]
  },
  {
   "cell_type": "code",
   "execution_count": 47,
   "metadata": {},
   "outputs": [],
   "source": [
    "datasets = {}\n",
    "for k, v in DATASET_MAP.items():\n",
    "    try:\n",
    "        datasets[k] = v['import_fn'](v['path'])\n",
    "    except Exception as e:\n",
    "        print(f\"Could not import {k}\")\n",
    "    "
   ]
  },
  {
   "cell_type": "markdown",
   "metadata": {},
   "source": [
    "# Enrich E \n",
    "Add subject, condition, E, F, G fields "
   ]
  },
  {
   "cell_type": "code",
   "execution_count": 48,
   "metadata": {},
   "outputs": [
    {
     "data": {
      "text/plain": [
       "{'G': None,\n",
       " 'F': None,\n",
       " 'E': 'FIRE AND RESCUE DOWNGRADED TO CAT 5',\n",
       " 'D': None,\n",
       " 'C': '1802282359EST',\n",
       " 'B': '1711302342',\n",
       " 'A': 'SARF',\n",
       " 'Q': 'SARR/QFFCG/IV/NBO/A/000/999/2612S05813W005',\n",
       " 'rad': 5.0,\n",
       " 'flmax': 999,\n",
       " 'flmin': 0,\n",
       " 'scope': 'A',\n",
       " 'purp': 'NBO',\n",
       " 'traffic': 'IV',\n",
       " 'condition': 'CG',\n",
       " 'subject': 'FF',\n",
       " 'fir': 'SARR',\n",
       " 'lon_hem': 'W',\n",
       " 'lon_min': 13.0,\n",
       " 'lon_deg': 58.0,\n",
       " 'lat_hem': 'S',\n",
       " 'lat_min': 12.0,\n",
       " 'lat_deg': 26.0,\n",
       " 'header': 'A8017/17 NOTAMR A5539/17',\n",
       " 'nat': 'R'}"
      ]
     },
     "execution_count": 48,
     "metadata": {},
     "output_type": "execute_result"
    }
   ],
   "source": [
    "records[0]\n"
   ]
  },
  {
   "cell_type": "code",
   "execution_count": 49,
   "metadata": {},
   "outputs": [],
   "source": [
    "notam_df = notam_df \\\n",
    "    .merge(datasets['subjects'][['code', 'sign']], how='left', left_on='subject', right_on='sign')\\\n",
    "        .drop('code', axis=1)\\\n",
    "            .rename(columns = {'sign':'subject_text'})\n",
    "\n",
    "notam_df['subject_text'] = notam_df['subject_text'].fillna(' ')\n"
   ]
  },
  {
   "cell_type": "code",
   "execution_count": 50,
   "metadata": {},
   "outputs": [],
   "source": [
    "notam_df = notam_df \\\n",
    ".merge(datasets['conditions'][['code', 'sign']], how='left', left_on='condition', right_on='sign')\\\n",
    "    .drop('code', axis=1)\\\n",
    "        .rename(columns = {'sign':'condition_text'})\n",
    "\n",
    "notam_df['condition_text'] = notam_df['condition_text'].fillna('')\n"
   ]
  },
  {
   "cell_type": "code",
   "execution_count": 51,
   "metadata": {},
   "outputs": [],
   "source": [
    "notam_df['E'] = notam_df['E'].fillna('')\n",
    "notam_df['F'] = notam_df['F'].fillna('')\n",
    "notam_df['G'] = notam_df['G'].fillna('')"
   ]
  },
  {
   "cell_type": "code",
   "execution_count": 52,
   "metadata": {},
   "outputs": [],
   "source": [
    "notam_df['enrichedE'] = notam_df.apply(lambda row: ' '.join(\n",
    "    [e for e in [\n",
    "        row['subject_text'],\n",
    "        row['condition_text'],\n",
    "        row['E'],\n",
    "        row['F'],\n",
    "        row['G']\n",
    "\n",
    "        ] if len(e) > 0]\n",
    "    ), axis=1)"
   ]
  },
  {
   "cell_type": "markdown",
   "metadata": {},
   "source": [
    "# Categoricals\n"
   ]
  },
  {
   "cell_type": "code",
   "execution_count": 53,
   "metadata": {},
   "outputs": [],
   "source": [
    "notam_df['nat'] = notam_df['nat'].fillna('')\n",
    "notam_df['nat_N'] = notam_df['nat'].apply(lambda x: 1 if 'N' in x else 0)"
   ]
  },
  {
   "cell_type": "code",
   "execution_count": 54,
   "metadata": {},
   "outputs": [],
   "source": [
    "notam_df['traffic'] = notam_df['traffic'].fillna('')\n",
    "notam_df['traffic_ifr'] = notam_df['traffic'].apply(lambda x: 1 if 'I' in x else 0)\n",
    "notam_df['traffic_vfr'] = notam_df['traffic'].apply(lambda x: 1 if 'V' in x else 0)\n",
    "notam_df['traffic_checklist'] = notam_df['traffic'].apply(lambda x: 1 if 'K' in x else 0)"
   ]
  },
  {
   "cell_type": "code",
   "execution_count": 55,
   "metadata": {},
   "outputs": [],
   "source": [
    "notam_df['purp'] = notam_df['purp'].fillna('')\n",
    "notam_df['purp_N'] = notam_df['purp'].apply(lambda x: 1 if 'N' in x else 0)\n",
    "notam_df['purp_B'] = notam_df['purp'].apply(lambda x: 1 if 'B' in x else 0)\n",
    "notam_df['purp_O'] = notam_df['purp'].apply(lambda x: 1 if 'O' in x else 0)\n",
    "notam_df['purp_M'] = notam_df['purp'].apply(lambda x: 1 if 'M' in x else 0)"
   ]
  },
  {
   "cell_type": "code",
   "execution_count": 56,
   "metadata": {},
   "outputs": [],
   "source": [
    "notam_df['scope'] = notam_df['scope'].fillna('')\n",
    "notam_df['scope_A'] = notam_df['scope'].apply(lambda x: 1 if 'A' in x else 0)\n",
    "notam_df['scope_E'] = notam_df['scope'].apply(lambda x: 1 if 'E' in x else 0)\n",
    "notam_df['scope_W'] = notam_df['scope'].apply(lambda x: 1 if 'W' in x else 0)"
   ]
  },
  {
   "cell_type": "code",
   "execution_count": 68,
   "metadata": {},
   "outputs": [
    {
     "data": {
      "text/plain": [
       "G                                                              \n",
       "F                                                              \n",
       "E                           FIRE AND RESCUE DOWNGRADED TO CAT 5\n",
       "D                                                          None\n",
       "C                                                 1802282359EST\n",
       "B                                                    1711302342\n",
       "A                                                          SARF\n",
       "Q                    SARR/QFFCG/IV/NBO/A/000/999/2612S05813W005\n",
       "rad                                                         5.0\n",
       "flmax                                                     999.0\n",
       "flmin                                                       0.0\n",
       "scope                                                         A\n",
       "purp                                                        NBO\n",
       "traffic                                                      IV\n",
       "condition                                                    CG\n",
       "subject                                                      FF\n",
       "fir                                                        SARR\n",
       "lon_hem                                                       W\n",
       "lon_min                                                    13.0\n",
       "lon_deg                                                    58.0\n",
       "lat_hem                                                       S\n",
       "lat_min                                                    12.0\n",
       "lat_deg                                                    26.0\n",
       "header                                 A8017/17 NOTAMR A5539/17\n",
       "nat                                                           R\n",
       "subject_text                                                   \n",
       "condition_text                                                 \n",
       "enrichedE                   FIRE AND RESCUE DOWNGRADED TO CAT 5\n",
       "nat_N                                                         0\n",
       "traffic_ifr                                                   1\n",
       "traffic_vfr                                                   1\n",
       "traffic_checklist                                             0\n",
       "purp_N                                                        1\n",
       "purp_B                                                        1\n",
       "purp_O                                                        1\n",
       "purp_M                                                        0\n",
       "scope_A                                                       1\n",
       "scope_E                                                       0\n",
       "scope_W                                                       0\n",
       "Name: 0, dtype: object"
      ]
     },
     "execution_count": 68,
     "metadata": {},
     "output_type": "execute_result"
    }
   ],
   "source": [
    "notam_df.iloc[0]"
   ]
  },
  {
   "cell_type": "code",
   "execution_count": 72,
   "metadata": {},
   "outputs": [],
   "source": [
    "notam_df.loc[notam_df['lat_hem']=='S', ['lat_sig']] = -1\n",
    "notam_df.loc[notam_df['lat_hem']=='N', ['lat_sig']] = 1\n",
    "notam_df['lat'] = notam_df['lat_sig']*(notam_df['lat_deg']+(notam_df['lat_min']/60))\n",
    "\n",
    "notam_df.loc[notam_df['lon_hem']=='W', ['lon_sig']] = -1\n",
    "notam_df.loc[notam_df['lon_hem']=='E', ['lon_sig']] = 1\n",
    "notam_df['lng'] = notam_df['lon_sig']*(notam_df['lon_deg']+(notam_df['lon_min']/60))"
   ]
  },
  {
   "cell_type": "markdown",
   "metadata": {},
   "source": [
    "# Closest Airport Distance"
   ]
  },
  {
   "cell_type": "code",
   "execution_count": 57,
   "metadata": {},
   "outputs": [
    {
     "data": {
      "text/plain": [
       "dict_keys(['subjects', 'conditions', 'contractions', 'stopwords', 'ngram_exclusion', 'special_numbers', '4lc_destinations', '4lc_alternates', '4lc_2nd_alternate_com', '4lc_2nd_alternate_fw', '4lc_3rd_alternate_com', '4lc_3rd_alternate_fw', '4lc_4th_alternate_com', '4lc_4th_alternate_fw', '4lc_5th_alternate_com', '4lc_5th_alternate_fw', '4lc_6th_alternate_com', '4lc_6th_alternate_fw', '4lc_7th_alternate_com', '4lc_7th_alternate_fw', 'feature_names', 'key_ngrams', 'airlines_sampledataset', 'airports_sampledataset'])"
      ]
     },
     "execution_count": 57,
     "metadata": {},
     "output_type": "execute_result"
    }
   ],
   "source": [
    "datasets.keys()"
   ]
  },
  {
   "cell_type": "code",
   "execution_count": 58,
   "metadata": {},
   "outputs": [
    {
     "data": {
      "text/plain": [
       "['BIKF',\n",
       " 'BKPR',\n",
       " 'CYUL',\n",
       " 'DTTJ',\n",
       " 'EBBR',\n",
       " 'EDDF',\n",
       " 'EDDH',\n",
       " 'EDDL',\n",
       " 'EDDM',\n",
       " 'EDDN',\n",
       " 'EDDS',\n",
       " 'EDDT',\n",
       " 'EDDV',\n",
       " 'EFKT',\n",
       " 'EFRO',\n",
       " 'EGBB',\n",
       " 'EGCC',\n",
       " 'EGKK',\n",
       " 'EGLC',\n",
       " 'EGLL',\n",
       " 'EHAM',\n",
       " 'EIDW',\n",
       " 'EKCH',\n",
       " 'ELLX',\n",
       " 'ENGM',\n",
       " 'EPWA',\n",
       " 'ESGG',\n",
       " 'ESSA',\n",
       " 'FAOR',\n",
       " 'GCFV',\n",
       " 'GCLP',\n",
       " 'GCRR',\n",
       " 'GCTS',\n",
       " 'GMAD',\n",
       " 'GMMX',\n",
       " 'HECA',\n",
       " 'HEGN',\n",
       " 'HELX',\n",
       " 'HEMA',\n",
       " 'HESH',\n",
       " 'HKJK',\n",
       " 'HTDA',\n",
       " 'KBOS',\n",
       " 'KEWR',\n",
       " 'KJFK',\n",
       " 'KLAX',\n",
       " 'KMIA',\n",
       " 'KORD',\n",
       " 'KSFO',\n",
       " 'LBWN',\n",
       " 'LCLK',\n",
       " 'LDSP',\n",
       " 'LEAL',\n",
       " 'LEBL',\n",
       " 'LEIB',\n",
       " 'LEJR',\n",
       " 'LEMD',\n",
       " 'LEMG',\n",
       " 'LEMH',\n",
       " 'LEPA',\n",
       " 'LEVC',\n",
       " 'LFKJ',\n",
       " 'LFLL',\n",
       " 'LFMN',\n",
       " 'LFPG',\n",
       " 'LFSB',\n",
       " 'LGAV',\n",
       " 'LGIR',\n",
       " 'LGKO',\n",
       " 'LGMK',\n",
       " 'LGRP',\n",
       " 'LGSA',\n",
       " 'LGSR',\n",
       " 'LHBP',\n",
       " 'LICA',\n",
       " 'LICC',\n",
       " 'LIEE',\n",
       " 'LIEO',\n",
       " 'LIMC',\n",
       " 'LIPZ',\n",
       " 'LIRF',\n",
       " 'LIRQ',\n",
       " 'LKPR',\n",
       " 'LLBG',\n",
       " 'LOWW',\n",
       " 'LPFR',\n",
       " 'LPPR',\n",
       " 'LPPT',\n",
       " 'LROP',\n",
       " 'LSGG',\n",
       " 'LSZH',\n",
       " 'LTAI',\n",
       " 'LTBA',\n",
       " 'LTBS',\n",
       " 'LTFE',\n",
       " 'LWSK',\n",
       " 'LYBE',\n",
       " 'OLBA',\n",
       " 'OMDB',\n",
       " 'OOMS',\n",
       " 'RJAA',\n",
       " 'SBGR',\n",
       " 'UKBB',\n",
       " 'ULLI',\n",
       " 'UUDD',\n",
       " 'VABB',\n",
       " 'VHHH',\n",
       " 'VIDP',\n",
       " 'VTBS',\n",
       " 'WSSS',\n",
       " 'ZBAA',\n",
       " 'ZSPD']"
      ]
     },
     "execution_count": 58,
     "metadata": {},
     "output_type": "execute_result"
    }
   ],
   "source": [
    "datasets['4lc_destinations']"
   ]
  },
  {
   "cell_type": "code",
   "execution_count": 75,
   "metadata": {},
   "outputs": [
    {
     "data": {
      "text/plain": [
       "5112"
      ]
     },
     "execution_count": 75,
     "metadata": {},
     "output_type": "execute_result"
    }
   ],
   "source": [
    "len(notam_df)"
   ]
  },
  {
   "cell_type": "code",
   "execution_count": 77,
   "metadata": {},
   "outputs": [],
   "source": [
    "from geopy.distance import great_circle\n",
    "import numpy as np\n",
    "\n",
    "def shortest_destination(lat, lng, airports_datasets):\n",
    "    airports = list(set([a for a_d in airports_datasets for a in datasets[a_d]]))\n",
    "    \n",
    "    relevant_airports = datasets['airports_sampledataset'].loc[datasets['airports_sampledataset']['4lc'].isin(airports)]\n",
    "\n",
    "    relevant_airports['dist'] = relevant_airports.apply(lambda row: great_circle((lat, lng),(row['lat'], row['lng'])), axis=1)\n",
    "\n",
    "    return relevant_airports.loc[relevant_airports['dist']==min(relevant_airports['dist']), ['4lc','dist']].iloc[0]\n",
    "\n",
    "notam_df[['1', '2']] = notam_df.apply(lambda row: shortest_destination(row['lat'],row['lng'],['4lc_destinations', '4lc_alternates']) if not (np.isnan(row['lat']) or np.isnan(row['lng'])) else np.nan, axis=1)\\\n",
    "    .rename(columns={'4lc':'1', 'dist':'2'})"
   ]
  }
 ],
 "metadata": {
  "kernelspec": {
   "display_name": "venv_lx",
   "language": "python",
   "name": "python3"
  },
  "language_info": {
   "codemirror_mode": {
    "name": "ipython",
    "version": 3
   },
   "file_extension": ".py",
   "mimetype": "text/x-python",
   "name": "python",
   "nbconvert_exporter": "python",
   "pygments_lexer": "ipython3",
   "version": "3.12.3"
  }
 },
 "nbformat": 4,
 "nbformat_minor": 2
}
